{
 "cells": [
  {
   "cell_type": "code",
   "execution_count": 18,
   "id": "7e474990-a9e2-4308-bb45-0be0cfc376e7",
   "metadata": {},
   "outputs": [],
   "source": [
    "# # what is set ?\n",
    "# \"\"\" \n",
    "# it is collection of unique element,\n",
    "# it is denoted {} but atleast one element should be in it, otherwise it will considered as dictionary.\n",
    "# it is unordrered data structure.that means indexing is not possible in it.\n",
    "# it is mutable type data structure that means we can perform crud operation on it.\n",
    "# basically it is used to mapping between two different set and analysing whether they contains same elements or not.\n",
    "# just acts as container\n",
    "# it does not entertain duplicate value or element.\n",
    "\n",
    "# \"\"\""
   ]
  },
  {
   "cell_type": "code",
   "execution_count": 16,
   "id": "31d0aea0-41d5-49e0-85f0-b4f118a564c1",
   "metadata": {},
   "outputs": [],
   "source": [
    "s={1,1,1,1,1,2,2,2,2,3,3,34,4,4,4}"
   ]
  },
  {
   "cell_type": "code",
   "execution_count": 17,
   "id": "0f64dcc3-00a8-4e5b-8cba-e1e8e77cf286",
   "metadata": {},
   "outputs": [
    {
     "data": {
      "text/plain": [
       "{1, 2, 3, 4, 34}"
      ]
     },
     "execution_count": 17,
     "metadata": {},
     "output_type": "execute_result"
    }
   ],
   "source": [
    "s"
   ]
  },
  {
   "cell_type": "code",
   "execution_count": 19,
   "id": "ea2d3a09-bcd0-4898-83cb-be362393046d",
   "metadata": {},
   "outputs": [],
   "source": [
    "\n",
    "# operation on set\n",
    "# inseration operation\n",
    "# add()--- it is used to store single element into the set.\n",
    "# update()--- it is used to store multiple element into the set"
   ]
  },
  {
   "cell_type": "code",
   "execution_count": 21,
   "id": "496d4ea7-d3e5-4d53-b6ea-dd38993828de",
   "metadata": {},
   "outputs": [],
   "source": [
    "s.add(9)"
   ]
  },
  {
   "cell_type": "code",
   "execution_count": 22,
   "id": "b03cf8d4-97fb-4a7c-a620-08af5c322940",
   "metadata": {},
   "outputs": [
    {
     "data": {
      "text/plain": [
       "{1, 2, 3, 4, 9, 34}"
      ]
     },
     "execution_count": 22,
     "metadata": {},
     "output_type": "execute_result"
    }
   ],
   "source": [
    "s"
   ]
  },
  {
   "cell_type": "code",
   "execution_count": 23,
   "id": "1311bb49-ba26-47f0-b5dd-7b5750824938",
   "metadata": {},
   "outputs": [],
   "source": [
    "s.add(45)"
   ]
  },
  {
   "cell_type": "code",
   "execution_count": 24,
   "id": "a2d1ea81-caca-41be-a001-c0924e98e8c9",
   "metadata": {},
   "outputs": [
    {
     "data": {
      "text/plain": [
       "{1, 2, 3, 4, 9, 34, 45}"
      ]
     },
     "execution_count": 24,
     "metadata": {},
     "output_type": "execute_result"
    }
   ],
   "source": [
    "s"
   ]
  },
  {
   "cell_type": "code",
   "execution_count": 25,
   "id": "c55e685c-be4b-4d09-8616-fcd02c211081",
   "metadata": {},
   "outputs": [],
   "source": [
    "s.add(909)"
   ]
  },
  {
   "cell_type": "code",
   "execution_count": 26,
   "id": "37d88b45-8295-4ada-a3d3-69c3cc48b25e",
   "metadata": {},
   "outputs": [
    {
     "data": {
      "text/plain": [
       "{1, 2, 3, 4, 9, 34, 45, 909}"
      ]
     },
     "execution_count": 26,
     "metadata": {},
     "output_type": "execute_result"
    }
   ],
   "source": [
    "s"
   ]
  },
  {
   "cell_type": "code",
   "execution_count": 27,
   "id": "ae3a87cc-038e-44db-a858-1c4a0d90ba1b",
   "metadata": {},
   "outputs": [],
   "source": [
    "s.add(34)"
   ]
  },
  {
   "cell_type": "code",
   "execution_count": 28,
   "id": "956b09e8-7996-4c3b-bbf3-895156420186",
   "metadata": {},
   "outputs": [
    {
     "data": {
      "text/plain": [
       "{1, 2, 3, 4, 9, 34, 45, 909}"
      ]
     },
     "execution_count": 28,
     "metadata": {},
     "output_type": "execute_result"
    }
   ],
   "source": [
    "s"
   ]
  },
  {
   "cell_type": "code",
   "execution_count": 29,
   "id": "4ff0740c-e835-4885-8e02-d807bf7e755b",
   "metadata": {},
   "outputs": [],
   "source": [
    "s.update({344,345,345,234,45,32,546,245})"
   ]
  },
  {
   "cell_type": "code",
   "execution_count": 30,
   "id": "7159a716-e8bf-47f2-98c9-f918d1898176",
   "metadata": {},
   "outputs": [
    {
     "data": {
      "text/plain": [
       "{1, 2, 3, 4, 9, 32, 34, 45, 234, 245, 344, 345, 546, 909}"
      ]
     },
     "execution_count": 30,
     "metadata": {},
     "output_type": "execute_result"
    }
   ],
   "source": [
    "s"
   ]
  },
  {
   "cell_type": "code",
   "execution_count": 31,
   "id": "7799897d-dc39-47cc-a5a6-f8d81337729f",
   "metadata": {},
   "outputs": [],
   "source": [
    "s.update(['python','dataengineering','pandas as pd'])"
   ]
  },
  {
   "cell_type": "code",
   "execution_count": 32,
   "id": "e29f8c8c-dcc8-401a-a6d3-48a409ae66dc",
   "metadata": {},
   "outputs": [
    {
     "data": {
      "text/plain": [
       "{1,\n",
       " 2,\n",
       " 234,\n",
       " 245,\n",
       " 3,\n",
       " 32,\n",
       " 34,\n",
       " 344,\n",
       " 345,\n",
       " 4,\n",
       " 45,\n",
       " 546,\n",
       " 9,\n",
       " 909,\n",
       " 'dataengineering',\n",
       " 'pandas as pd',\n",
       " 'python'}"
      ]
     },
     "execution_count": 32,
     "metadata": {},
     "output_type": "execute_result"
    }
   ],
   "source": [
    "s"
   ]
  },
  {
   "cell_type": "code",
   "execution_count": 33,
   "id": "6b8ef2bf-097c-4cd2-bac9-8415f3fb6ea8",
   "metadata": {},
   "outputs": [
    {
     "name": "stdout",
     "output_type": "stream",
     "text": [
      "{32, 1, 2, 3, 34, 4, 546, 9, 234, 'pandas as pd', 45, 909, 'python', 245, 'dataengineering', 344, 345}\n"
     ]
    }
   ],
   "source": [
    "print(s)"
   ]
  },
  {
   "cell_type": "code",
   "execution_count": 35,
   "id": "b2a9782b-95db-4b6b-af54-8041faecb260",
   "metadata": {},
   "outputs": [],
   "source": [
    "# how you use set for mapping.\n",
    "# -- byusing it object like union , intersection , difference ,symmetric_difference we can map between two set."
   ]
  },
  {
   "cell_type": "code",
   "execution_count": null,
   "id": "7cce7cf0-b169-425c-98f9-269a94440e9a",
   "metadata": {},
   "outputs": [],
   "source": [
    "# Mapping operation on set\n",
    "# 1.union --- returns all uniquw elements from two sets"
   ]
  },
  {
   "cell_type": "code",
   "execution_count": 36,
   "id": "8b4ff2d7-60ba-4f33-86c3-2c55c5b601a5",
   "metadata": {},
   "outputs": [],
   "source": [
    "loan={'mahesh','mayur','anand','bhagwat'}"
   ]
  },
  {
   "cell_type": "code",
   "execution_count": 37,
   "id": "09b2a6e5-9534-4b69-940e-63522be161d9",
   "metadata": {},
   "outputs": [],
   "source": [
    "credit={'mahesh','mayur','bhagwat'}"
   ]
  },
  {
   "cell_type": "code",
   "execution_count": 38,
   "id": "1a71a6c9-ceee-4357-9de6-af9fff020316",
   "metadata": {},
   "outputs": [
    {
     "data": {
      "text/plain": [
       "{'anand', 'bhagwat', 'mahesh', 'mayur'}"
      ]
     },
     "execution_count": 38,
     "metadata": {},
     "output_type": "execute_result"
    }
   ],
   "source": [
    "loan.union(credit)"
   ]
  },
  {
   "cell_type": "code",
   "execution_count": 39,
   "id": "93b57ac2-df82-400e-a0ec-d9073b0d483f",
   "metadata": {},
   "outputs": [],
   "source": [
    "# 2.intersection() -- returns the common element from both sets"
   ]
  },
  {
   "cell_type": "code",
   "execution_count": 40,
   "id": "c36ca44c-ae0f-4655-b18d-c2e1a49d679f",
   "metadata": {},
   "outputs": [
    {
     "data": {
      "text/plain": [
       "{'bhagwat', 'mahesh', 'mayur'}"
      ]
     },
     "execution_count": 40,
     "metadata": {},
     "output_type": "execute_result"
    }
   ],
   "source": [
    "loan.intersection(credit)"
   ]
  },
  {
   "cell_type": "code",
   "execution_count": 41,
   "id": "a8ebb017-c80f-4898-a22f-13e2297df294",
   "metadata": {},
   "outputs": [
    {
     "data": {
      "text/plain": [
       "{'bhagwat', 'mahesh', 'mayur'}"
      ]
     },
     "execution_count": 41,
     "metadata": {},
     "output_type": "execute_result"
    }
   ],
   "source": [
    "credit.intersection(loan)"
   ]
  },
  {
   "cell_type": "code",
   "execution_count": 42,
   "id": "73ded90c-0f23-4c99-8eec-f35d6faa79db",
   "metadata": {},
   "outputs": [],
   "source": [
    "# 3 difference()--returns the element which is not present in left side or we differenciating with right side set"
   ]
  },
  {
   "cell_type": "code",
   "execution_count": 43,
   "id": "82041d15-c3b3-4cd7-8440-22862d753d85",
   "metadata": {},
   "outputs": [
    {
     "data": {
      "text/plain": [
       "{'anand'}"
      ]
     },
     "execution_count": 43,
     "metadata": {},
     "output_type": "execute_result"
    }
   ],
   "source": [
    "loan.difference(credit)"
   ]
  },
  {
   "cell_type": "code",
   "execution_count": 44,
   "id": "b3bf89aa-e4c6-46b5-a464-23a845419373",
   "metadata": {},
   "outputs": [
    {
     "data": {
      "text/plain": [
       "set()"
      ]
     },
     "execution_count": 44,
     "metadata": {},
     "output_type": "execute_result"
    }
   ],
   "source": [
    "credit.difference(loan)"
   ]
  },
  {
   "cell_type": "code",
   "execution_count": 45,
   "id": "6fa34129-5a56-4473-9184-03607bc26ac5",
   "metadata": {},
   "outputs": [],
   "source": [
    "#symmetric_difference()--returns uncomman element from set"
   ]
  },
  {
   "cell_type": "code",
   "execution_count": 46,
   "id": "70cc8afb-1103-4d99-9ad0-63adf5cda3ef",
   "metadata": {},
   "outputs": [
    {
     "data": {
      "text/plain": [
       "{'anand'}"
      ]
     },
     "execution_count": 46,
     "metadata": {},
     "output_type": "execute_result"
    }
   ],
   "source": [
    "loan.symmetric_difference(credit)"
   ]
  },
  {
   "cell_type": "code",
   "execution_count": 47,
   "id": "539220f2-eefe-4447-974e-4e9e4ff565fa",
   "metadata": {},
   "outputs": [
    {
     "data": {
      "text/plain": [
       "{'anand'}"
      ]
     },
     "execution_count": 47,
     "metadata": {},
     "output_type": "execute_result"
    }
   ],
   "source": [
    "credit.symmetric_difference(loan)"
   ]
  },
  {
   "cell_type": "code",
   "execution_count": 48,
   "id": "007b3be7-c8d4-4190-8d33-59ac4147f582",
   "metadata": {},
   "outputs": [
    {
     "data": {
      "text/plain": [
       "4"
      ]
     },
     "execution_count": 48,
     "metadata": {},
     "output_type": "execute_result"
    }
   ],
   "source": [
    "len(loan.union(credit))"
   ]
  },
  {
   "cell_type": "code",
   "execution_count": 49,
   "id": "1b244c28-81da-4f5b-8c08-14449eaa71de",
   "metadata": {},
   "outputs": [],
   "source": [
    "s={1,2,'python','java'}"
   ]
  },
  {
   "cell_type": "code",
   "execution_count": 50,
   "id": "40c1b680-ff48-4cf0-a1f0-feb0803a9b10",
   "metadata": {},
   "outputs": [],
   "source": [
    "s1={2,'java'}"
   ]
  },
  {
   "cell_type": "code",
   "execution_count": 51,
   "id": "19cf7351-101b-4b9f-b069-1abc6959416d",
   "metadata": {},
   "outputs": [],
   "source": [
    "s2={100,200,300}"
   ]
  },
  {
   "cell_type": "code",
   "execution_count": 52,
   "id": "6c31a325-2ac0-469f-ae25-e5bea62e67b3",
   "metadata": {},
   "outputs": [
    {
     "data": {
      "text/plain": [
       "True"
      ]
     },
     "execution_count": 52,
     "metadata": {},
     "output_type": "execute_result"
    }
   ],
   "source": [
    "s1.issubset(s)"
   ]
  },
  {
   "cell_type": "code",
   "execution_count": 53,
   "id": "d2479886-b974-47e9-9f9d-848c661b84c6",
   "metadata": {},
   "outputs": [
    {
     "data": {
      "text/plain": [
       "True"
      ]
     },
     "execution_count": 53,
     "metadata": {},
     "output_type": "execute_result"
    }
   ],
   "source": [
    "s.issuperset(s1)"
   ]
  },
  {
   "cell_type": "code",
   "execution_count": 57,
   "id": "efe587b3-b65a-4653-bd0b-d792650b054e",
   "metadata": {},
   "outputs": [
    {
     "data": {
      "text/plain": [
       "True"
      ]
     },
     "execution_count": 57,
     "metadata": {},
     "output_type": "execute_result"
    }
   ],
   "source": [
    "s2.isdisjoint(s1)"
   ]
  },
  {
   "cell_type": "code",
   "execution_count": 58,
   "id": "1b649be2-16db-4827-adde-7bd5f46835f3",
   "metadata": {},
   "outputs": [],
   "source": [
    "emails_sent={'anand@gmail.com','mahesh@rediffmail.com','bhagwat@rocketmail.com'}"
   ]
  },
  {
   "cell_type": "code",
   "execution_count": 59,
   "id": "1402601b-c16e-4492-9c2e-989855b1f315",
   "metadata": {},
   "outputs": [],
   "source": [
    "remain={'mayur@gmail.com','amar@silent.com'}"
   ]
  },
  {
   "cell_type": "code",
   "execution_count": 60,
   "id": "642c1e47-24d1-4311-93a5-a9ebdf1f92d5",
   "metadata": {},
   "outputs": [
    {
     "data": {
      "text/plain": [
       "{'amar@silent.com', 'mayur@gmail.com'}"
      ]
     },
     "execution_count": 60,
     "metadata": {},
     "output_type": "execute_result"
    }
   ],
   "source": [
    "remain.difference(emails_sent)"
   ]
  },
  {
   "cell_type": "code",
   "execution_count": 61,
   "id": "c75d1574-7bbe-4113-a7ac-0fa21cceca26",
   "metadata": {},
   "outputs": [],
   "source": [
    "# requirement:-\n",
    "# client allows is to process those product which is in prd_list only."
   ]
  },
  {
   "cell_type": "code",
   "execution_count": 62,
   "id": "e771e831-4919-4c53-b9ec-9a7ed92d3dc5",
   "metadata": {},
   "outputs": [],
   "source": [
    "prdlist=['copper','gold','silver','iron','al']"
   ]
  },
  {
   "cell_type": "code",
   "execution_count": 69,
   "id": "bd6cfe13-fb97-4dce-a564-c232b9be2fc4",
   "metadata": {},
   "outputs": [],
   "source": [
    "processing={'gold','silver'}"
   ]
  },
  {
   "cell_type": "code",
   "execution_count": 70,
   "id": "aa258a46-510d-4fc9-bcdd-2fdd46f70751",
   "metadata": {},
   "outputs": [
    {
     "data": {
      "text/plain": [
       "False"
      ]
     },
     "execution_count": 70,
     "metadata": {},
     "output_type": "execute_result"
    }
   ],
   "source": [
    "set(prdlist).issubset(processing)"
   ]
  },
  {
   "cell_type": "code",
   "execution_count": 71,
   "id": "46188a33-a535-4ac8-92ff-7f67ea442c98",
   "metadata": {},
   "outputs": [],
   "source": [
    "prdlist=set(prdlist)"
   ]
  },
  {
   "cell_type": "code",
   "execution_count": 72,
   "id": "6da3d36c-c2a9-477f-91d3-1e7b6b303d96",
   "metadata": {},
   "outputs": [
    {
     "data": {
      "text/plain": [
       "{'al', 'copper', 'gold', 'iron', 'silver'}"
      ]
     },
     "execution_count": 72,
     "metadata": {},
     "output_type": "execute_result"
    }
   ],
   "source": [
    "prdlist"
   ]
  },
  {
   "cell_type": "code",
   "execution_count": 73,
   "id": "135f1b62-4093-4870-8691-24e8123ae668",
   "metadata": {},
   "outputs": [
    {
     "name": "stdout",
     "output_type": "stream",
     "text": [
      "Product found and processing...\n"
     ]
    }
   ],
   "source": [
    "if processing.issubset(prdlist):\n",
    "    print(\"Product found and processing...\")\n",
    "else:\n",
    "    print(\"Product not found please check prdlist\")"
   ]
  },
  {
   "cell_type": "code",
   "execution_count": 74,
   "id": "8cae4654-f125-427e-bd6a-fa805e269291",
   "metadata": {},
   "outputs": [],
   "source": [
    "bharunjhal={'anand ','mahesh','mayur'}"
   ]
  },
  {
   "cell_type": "code",
   "execution_count": 75,
   "id": "55a9aeda-0af7-42e4-9a26-fec88ec99834",
   "metadata": {},
   "outputs": [],
   "source": [
    "bharunnahijhal={'bhagwat','mayur','rakesh'}"
   ]
  },
  {
   "cell_type": "code",
   "execution_count": 80,
   "id": "a994fade-02ee-45ab-88c3-6e709300ca50",
   "metadata": {},
   "outputs": [],
   "source": [
    "bharunnahijhal.difference_update(bharunjhal)"
   ]
  },
  {
   "cell_type": "code",
   "execution_count": 81,
   "id": "4e8b698b-5a77-4e27-9ea1-e8315af9b245",
   "metadata": {},
   "outputs": [
    {
     "data": {
      "text/plain": [
       "{'bhagwat', 'rakesh'}"
      ]
     },
     "execution_count": 81,
     "metadata": {},
     "output_type": "execute_result"
    }
   ],
   "source": [
    "bharunnahijhal"
   ]
  },
  {
   "cell_type": "code",
   "execution_count": 82,
   "id": "ebe9f774-3458-44e1-9b50-80b9428353f6",
   "metadata": {},
   "outputs": [
    {
     "data": {
      "text/plain": [
       "{'anand ', 'mahesh', 'mayur'}"
      ]
     },
     "execution_count": 82,
     "metadata": {},
     "output_type": "execute_result"
    }
   ],
   "source": [
    "bharunjhal"
   ]
  },
  {
   "cell_type": "code",
   "execution_count": 83,
   "id": "4b94a3bf-9b1d-43fe-a7fe-8d8fb8f73704",
   "metadata": {},
   "outputs": [
    {
     "data": {
      "text/plain": [
       "{'bhagwat', 'rakesh'}"
      ]
     },
     "execution_count": 83,
     "metadata": {},
     "output_type": "execute_result"
    }
   ],
   "source": [
    "bharunnahijhal"
   ]
  },
  {
   "cell_type": "code",
   "execution_count": 84,
   "id": "57316fe9-914d-472e-8202-9850e95bbb8e",
   "metadata": {},
   "outputs": [
    {
     "data": {
      "text/plain": [
       "True"
      ]
     },
     "execution_count": 84,
     "metadata": {},
     "output_type": "execute_result"
    }
   ],
   "source": [
    "bharunjhal.isdisjoint(bharunnahijhal)"
   ]
  },
  {
   "cell_type": "code",
   "execution_count": null,
   "id": "6e916fb2-97cf-4947-b8d8-9cb9ceacd12b",
   "metadata": {},
   "outputs": [],
   "source": []
  },
  {
   "cell_type": "code",
   "execution_count": null,
   "id": "860c436b-f11e-4a40-b2a0-e4328441cb22",
   "metadata": {},
   "outputs": [],
   "source": []
  },
  {
   "cell_type": "code",
   "execution_count": null,
   "id": "7f8216ae-458e-4780-bef6-688819832567",
   "metadata": {},
   "outputs": [],
   "source": []
  }
 ],
 "metadata": {
  "kernelspec": {
   "display_name": "Python 3 (ipykernel)",
   "language": "python",
   "name": "python3"
  },
  "language_info": {
   "codemirror_mode": {
    "name": "ipython",
    "version": 3
   },
   "file_extension": ".py",
   "mimetype": "text/x-python",
   "name": "python",
   "nbconvert_exporter": "python",
   "pygments_lexer": "ipython3",
   "version": "3.12.5"
  }
 },
 "nbformat": 4,
 "nbformat_minor": 5
}
